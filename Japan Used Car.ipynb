{
 "cells": [
  {
   "cell_type": "markdown",
   "id": "10307f1f",
   "metadata": {},
   "source": [
    "# Japan Used Cars Price Prediction (Practice Project -5)"
   ]
  },
  {
   "cell_type": "markdown",
   "id": "c0fed7a7",
   "metadata": {},
   "source": [
    "Problem Statement:\n",
    "    \n",
    "Cars' data was scraped from tc-v.com and it included Information about Japan's largest online used car marketplace. Ten features were assembled for each car in the dataset.\n",
    "\n"
   ]
  },
  {
   "cell_type": "code",
   "execution_count": 56,
   "id": "d6e928ef",
   "metadata": {},
   "outputs": [],
   "source": [
    "import numpy as np\n",
    "import pandas as pd\n",
    "import matplotlib.pyplot as plt \n",
    "import seaborn as sns\n",
    "%matplotlib inline\n",
    "from scipy.stats import zscore\n",
    "from sklearn.model_selection import train_test_split, cross_val_score\n",
    "from sklearn.linear_model import LinearRegression\n",
    "from sklearn.metrics import r2_score\n",
    "from sklearn.preprocessing import StandardScaler,MinMaxScaler\n",
    "\n",
    "import warnings\n",
    "warnings.filterwarnings('ignore')"
   ]
  },
  {
   "cell_type": "markdown",
   "id": "41ec44c3",
   "metadata": {},
   "source": [
    "# Importing Dataset"
   ]
  },
  {
   "cell_type": "code",
   "execution_count": 3,
   "id": "ac4ff3f9",
   "metadata": {},
   "outputs": [
    {
     "data": {
      "text/html": [
       "<div>\n",
       "<style scoped>\n",
       "    .dataframe tbody tr th:only-of-type {\n",
       "        vertical-align: middle;\n",
       "    }\n",
       "\n",
       "    .dataframe tbody tr th {\n",
       "        vertical-align: top;\n",
       "    }\n",
       "\n",
       "    .dataframe thead th {\n",
       "        text-align: right;\n",
       "    }\n",
       "</style>\n",
       "<table border=\"1\" class=\"dataframe\">\n",
       "  <thead>\n",
       "    <tr style=\"text-align: right;\">\n",
       "      <th></th>\n",
       "      <th>id</th>\n",
       "      <th>price</th>\n",
       "      <th>mark</th>\n",
       "      <th>model</th>\n",
       "      <th>year</th>\n",
       "      <th>mileage</th>\n",
       "      <th>engine_capacity</th>\n",
       "      <th>transmission</th>\n",
       "      <th>drive</th>\n",
       "      <th>hand_drive</th>\n",
       "      <th>fuel</th>\n",
       "    </tr>\n",
       "  </thead>\n",
       "  <tbody>\n",
       "    <tr>\n",
       "      <th>0</th>\n",
       "      <td>0</td>\n",
       "      <td>80</td>\n",
       "      <td>nissan</td>\n",
       "      <td>march</td>\n",
       "      <td>2003</td>\n",
       "      <td>80000</td>\n",
       "      <td>1240</td>\n",
       "      <td>at</td>\n",
       "      <td>2wd</td>\n",
       "      <td>rhd</td>\n",
       "      <td>gasoline</td>\n",
       "    </tr>\n",
       "    <tr>\n",
       "      <th>1</th>\n",
       "      <td>1</td>\n",
       "      <td>110</td>\n",
       "      <td>nissan</td>\n",
       "      <td>march</td>\n",
       "      <td>2010</td>\n",
       "      <td>53000</td>\n",
       "      <td>1200</td>\n",
       "      <td>at</td>\n",
       "      <td>2wd</td>\n",
       "      <td>rhd</td>\n",
       "      <td>gasoline</td>\n",
       "    </tr>\n",
       "    <tr>\n",
       "      <th>2</th>\n",
       "      <td>2</td>\n",
       "      <td>165</td>\n",
       "      <td>nissan</td>\n",
       "      <td>lafesta</td>\n",
       "      <td>2005</td>\n",
       "      <td>47690</td>\n",
       "      <td>2000</td>\n",
       "      <td>at</td>\n",
       "      <td>2wd</td>\n",
       "      <td>rhd</td>\n",
       "      <td>gasoline</td>\n",
       "    </tr>\n",
       "    <tr>\n",
       "      <th>3</th>\n",
       "      <td>3</td>\n",
       "      <td>190</td>\n",
       "      <td>toyota</td>\n",
       "      <td>avensis</td>\n",
       "      <td>2008</td>\n",
       "      <td>130661</td>\n",
       "      <td>1990</td>\n",
       "      <td>at</td>\n",
       "      <td>2wd</td>\n",
       "      <td>rhd</td>\n",
       "      <td>gasoline</td>\n",
       "    </tr>\n",
       "    <tr>\n",
       "      <th>4</th>\n",
       "      <td>4</td>\n",
       "      <td>190</td>\n",
       "      <td>daihatsu</td>\n",
       "      <td>mira</td>\n",
       "      <td>2006</td>\n",
       "      <td>66300</td>\n",
       "      <td>660</td>\n",
       "      <td>at</td>\n",
       "      <td>2wd</td>\n",
       "      <td>rhd</td>\n",
       "      <td>gasoline</td>\n",
       "    </tr>\n",
       "    <tr>\n",
       "      <th>...</th>\n",
       "      <td>...</td>\n",
       "      <td>...</td>\n",
       "      <td>...</td>\n",
       "      <td>...</td>\n",
       "      <td>...</td>\n",
       "      <td>...</td>\n",
       "      <td>...</td>\n",
       "      <td>...</td>\n",
       "      <td>...</td>\n",
       "      <td>...</td>\n",
       "      <td>...</td>\n",
       "    </tr>\n",
       "    <tr>\n",
       "      <th>2313</th>\n",
       "      <td>2331</td>\n",
       "      <td>1400</td>\n",
       "      <td>toyota</td>\n",
       "      <td>vitz</td>\n",
       "      <td>2009</td>\n",
       "      <td>121000</td>\n",
       "      <td>996</td>\n",
       "      <td>at</td>\n",
       "      <td>2wd</td>\n",
       "      <td>rhd</td>\n",
       "      <td>gasoline</td>\n",
       "    </tr>\n",
       "    <tr>\n",
       "      <th>2314</th>\n",
       "      <td>2332</td>\n",
       "      <td>1400</td>\n",
       "      <td>toyota</td>\n",
       "      <td>estima</td>\n",
       "      <td>2003</td>\n",
       "      <td>101000</td>\n",
       "      <td>3000</td>\n",
       "      <td>at</td>\n",
       "      <td>2wd</td>\n",
       "      <td>rhd</td>\n",
       "      <td>gasoline</td>\n",
       "    </tr>\n",
       "    <tr>\n",
       "      <th>2315</th>\n",
       "      <td>2333</td>\n",
       "      <td>1400</td>\n",
       "      <td>subaru</td>\n",
       "      <td>r2</td>\n",
       "      <td>2005</td>\n",
       "      <td>101000</td>\n",
       "      <td>660</td>\n",
       "      <td>cvt</td>\n",
       "      <td>2wd</td>\n",
       "      <td>rhd</td>\n",
       "      <td>gasoline</td>\n",
       "    </tr>\n",
       "    <tr>\n",
       "      <th>2316</th>\n",
       "      <td>2334</td>\n",
       "      <td>1400</td>\n",
       "      <td>honda</td>\n",
       "      <td>z</td>\n",
       "      <td>2000</td>\n",
       "      <td>170000</td>\n",
       "      <td>660</td>\n",
       "      <td>at</td>\n",
       "      <td>4wd</td>\n",
       "      <td>rhd</td>\n",
       "      <td>gasoline</td>\n",
       "    </tr>\n",
       "    <tr>\n",
       "      <th>2317</th>\n",
       "      <td>2335</td>\n",
       "      <td>1400</td>\n",
       "      <td>toyota</td>\n",
       "      <td>estima t</td>\n",
       "      <td>2005</td>\n",
       "      <td>72320</td>\n",
       "      <td>3000</td>\n",
       "      <td>at</td>\n",
       "      <td>2wd</td>\n",
       "      <td>rhd</td>\n",
       "      <td>gasoline</td>\n",
       "    </tr>\n",
       "  </tbody>\n",
       "</table>\n",
       "<p>2318 rows × 11 columns</p>\n",
       "</div>"
      ],
      "text/plain": [
       "        id  price      mark     model  year  mileage  engine_capacity  \\\n",
       "0        0     80    nissan     march  2003    80000             1240   \n",
       "1        1    110    nissan     march  2010    53000             1200   \n",
       "2        2    165    nissan   lafesta  2005    47690             2000   \n",
       "3        3    190    toyota   avensis  2008   130661             1990   \n",
       "4        4    190  daihatsu      mira  2006    66300              660   \n",
       "...    ...    ...       ...       ...   ...      ...              ...   \n",
       "2313  2331   1400    toyota      vitz  2009   121000              996   \n",
       "2314  2332   1400    toyota    estima  2003   101000             3000   \n",
       "2315  2333   1400    subaru        r2  2005   101000              660   \n",
       "2316  2334   1400     honda         z  2000   170000              660   \n",
       "2317  2335   1400    toyota  estima t  2005    72320             3000   \n",
       "\n",
       "     transmission drive hand_drive      fuel  \n",
       "0              at   2wd        rhd  gasoline  \n",
       "1              at   2wd        rhd  gasoline  \n",
       "2              at   2wd        rhd  gasoline  \n",
       "3              at   2wd        rhd  gasoline  \n",
       "4              at   2wd        rhd  gasoline  \n",
       "...           ...   ...        ...       ...  \n",
       "2313           at   2wd        rhd  gasoline  \n",
       "2314           at   2wd        rhd  gasoline  \n",
       "2315          cvt   2wd        rhd  gasoline  \n",
       "2316           at   4wd        rhd  gasoline  \n",
       "2317           at   2wd        rhd  gasoline  \n",
       "\n",
       "[2318 rows x 11 columns]"
      ]
     },
     "execution_count": 3,
     "metadata": {},
     "output_type": "execute_result"
    }
   ],
   "source": [
    "df=pd.read_csv('Japan_used_car.csv')\n",
    "df"
   ]
  },
  {
   "cell_type": "code",
   "execution_count": 4,
   "id": "04e90387",
   "metadata": {},
   "outputs": [
    {
     "data": {
      "text/plain": [
       "(2318, 11)"
      ]
     },
     "execution_count": 4,
     "metadata": {},
     "output_type": "execute_result"
    }
   ],
   "source": [
    "df.shape"
   ]
  },
  {
   "cell_type": "markdown",
   "id": "abbe60bd",
   "metadata": {},
   "source": [
    "The dataset is having 2318 columns and 11 rows"
   ]
  },
  {
   "cell_type": "code",
   "execution_count": 5,
   "id": "78971af1",
   "metadata": {},
   "outputs": [
    {
     "data": {
      "text/plain": [
       "id                  int64\n",
       "price               int64\n",
       "mark               object\n",
       "model              object\n",
       "year                int64\n",
       "mileage             int64\n",
       "engine_capacity     int64\n",
       "transmission       object\n",
       "drive              object\n",
       "hand_drive         object\n",
       "fuel               object\n",
       "dtype: object"
      ]
     },
     "execution_count": 5,
     "metadata": {},
     "output_type": "execute_result"
    }
   ],
   "source": [
    "df.dtypes"
   ]
  },
  {
   "cell_type": "markdown",
   "id": "a0f6803e",
   "metadata": {},
   "source": [
    "All columns have correct data types"
   ]
  },
  {
   "cell_type": "code",
   "execution_count": 6,
   "id": "b2244b47",
   "metadata": {},
   "outputs": [
    {
     "data": {
      "text/plain": [
       "Index(['id', 'price', 'mark', 'model', 'year', 'mileage', 'engine_capacity',\n",
       "       'transmission', 'drive', 'hand_drive', 'fuel'],\n",
       "      dtype='object')"
      ]
     },
     "execution_count": 6,
     "metadata": {},
     "output_type": "execute_result"
    }
   ],
   "source": [
    "df.columns"
   ]
  },
  {
   "cell_type": "code",
   "execution_count": 7,
   "id": "03a1b48b",
   "metadata": {},
   "outputs": [
    {
     "name": "stdout",
     "output_type": "stream",
     "text": [
      "<class 'pandas.core.frame.DataFrame'>\n",
      "RangeIndex: 2318 entries, 0 to 2317\n",
      "Data columns (total 11 columns):\n",
      " #   Column           Non-Null Count  Dtype \n",
      "---  ------           --------------  ----- \n",
      " 0   id               2318 non-null   int64 \n",
      " 1   price            2318 non-null   int64 \n",
      " 2   mark             2318 non-null   object\n",
      " 3   model            2318 non-null   object\n",
      " 4   year             2318 non-null   int64 \n",
      " 5   mileage          2318 non-null   int64 \n",
      " 6   engine_capacity  2318 non-null   int64 \n",
      " 7   transmission     2318 non-null   object\n",
      " 8   drive            2318 non-null   object\n",
      " 9   hand_drive       2318 non-null   object\n",
      " 10  fuel             2318 non-null   object\n",
      "dtypes: int64(5), object(6)\n",
      "memory usage: 199.3+ KB\n"
     ]
    }
   ],
   "source": [
    "df.info()"
   ]
  },
  {
   "cell_type": "markdown",
   "id": "e8f071be",
   "metadata": {},
   "source": [
    "No null values in dataset."
   ]
  },
  {
   "cell_type": "code",
   "execution_count": 8,
   "id": "a88120ce",
   "metadata": {},
   "outputs": [
    {
     "data": {
      "text/html": [
       "<div>\n",
       "<style scoped>\n",
       "    .dataframe tbody tr th:only-of-type {\n",
       "        vertical-align: middle;\n",
       "    }\n",
       "\n",
       "    .dataframe tbody tr th {\n",
       "        vertical-align: top;\n",
       "    }\n",
       "\n",
       "    .dataframe thead th {\n",
       "        text-align: right;\n",
       "    }\n",
       "</style>\n",
       "<table border=\"1\" class=\"dataframe\">\n",
       "  <thead>\n",
       "    <tr style=\"text-align: right;\">\n",
       "      <th></th>\n",
       "      <th>id</th>\n",
       "      <th>price</th>\n",
       "      <th>mark</th>\n",
       "      <th>model</th>\n",
       "      <th>year</th>\n",
       "      <th>mileage</th>\n",
       "      <th>engine_capacity</th>\n",
       "      <th>transmission</th>\n",
       "      <th>drive</th>\n",
       "      <th>hand_drive</th>\n",
       "      <th>fuel</th>\n",
       "    </tr>\n",
       "  </thead>\n",
       "  <tbody>\n",
       "    <tr>\n",
       "      <th>0</th>\n",
       "      <td>0</td>\n",
       "      <td>80</td>\n",
       "      <td>nissan</td>\n",
       "      <td>march</td>\n",
       "      <td>2003</td>\n",
       "      <td>80000</td>\n",
       "      <td>1240</td>\n",
       "      <td>at</td>\n",
       "      <td>2wd</td>\n",
       "      <td>rhd</td>\n",
       "      <td>gasoline</td>\n",
       "    </tr>\n",
       "    <tr>\n",
       "      <th>1</th>\n",
       "      <td>1</td>\n",
       "      <td>110</td>\n",
       "      <td>nissan</td>\n",
       "      <td>march</td>\n",
       "      <td>2010</td>\n",
       "      <td>53000</td>\n",
       "      <td>1200</td>\n",
       "      <td>at</td>\n",
       "      <td>2wd</td>\n",
       "      <td>rhd</td>\n",
       "      <td>gasoline</td>\n",
       "    </tr>\n",
       "    <tr>\n",
       "      <th>2</th>\n",
       "      <td>2</td>\n",
       "      <td>165</td>\n",
       "      <td>nissan</td>\n",
       "      <td>lafesta</td>\n",
       "      <td>2005</td>\n",
       "      <td>47690</td>\n",
       "      <td>2000</td>\n",
       "      <td>at</td>\n",
       "      <td>2wd</td>\n",
       "      <td>rhd</td>\n",
       "      <td>gasoline</td>\n",
       "    </tr>\n",
       "    <tr>\n",
       "      <th>3</th>\n",
       "      <td>3</td>\n",
       "      <td>190</td>\n",
       "      <td>toyota</td>\n",
       "      <td>avensis</td>\n",
       "      <td>2008</td>\n",
       "      <td>130661</td>\n",
       "      <td>1990</td>\n",
       "      <td>at</td>\n",
       "      <td>2wd</td>\n",
       "      <td>rhd</td>\n",
       "      <td>gasoline</td>\n",
       "    </tr>\n",
       "    <tr>\n",
       "      <th>4</th>\n",
       "      <td>4</td>\n",
       "      <td>190</td>\n",
       "      <td>daihatsu</td>\n",
       "      <td>mira</td>\n",
       "      <td>2006</td>\n",
       "      <td>66300</td>\n",
       "      <td>660</td>\n",
       "      <td>at</td>\n",
       "      <td>2wd</td>\n",
       "      <td>rhd</td>\n",
       "      <td>gasoline</td>\n",
       "    </tr>\n",
       "  </tbody>\n",
       "</table>\n",
       "</div>"
      ],
      "text/plain": [
       "   id  price      mark    model  year  mileage  engine_capacity transmission  \\\n",
       "0   0     80    nissan    march  2003    80000             1240           at   \n",
       "1   1    110    nissan    march  2010    53000             1200           at   \n",
       "2   2    165    nissan  lafesta  2005    47690             2000           at   \n",
       "3   3    190    toyota  avensis  2008   130661             1990           at   \n",
       "4   4    190  daihatsu     mira  2006    66300              660           at   \n",
       "\n",
       "  drive hand_drive      fuel  \n",
       "0   2wd        rhd  gasoline  \n",
       "1   2wd        rhd  gasoline  \n",
       "2   2wd        rhd  gasoline  \n",
       "3   2wd        rhd  gasoline  \n",
       "4   2wd        rhd  gasoline  "
      ]
     },
     "execution_count": 8,
     "metadata": {},
     "output_type": "execute_result"
    }
   ],
   "source": [
    "df.head()"
   ]
  },
  {
   "cell_type": "markdown",
   "id": "ef560e82",
   "metadata": {},
   "source": [
    "As we can see column ID,Mark, Model have no significance, so we can drop them."
   ]
  },
  {
   "cell_type": "code",
   "execution_count": 9,
   "id": "ab5107a1",
   "metadata": {},
   "outputs": [
    {
     "data": {
      "text/plain": [
       "id                 0\n",
       "price              0\n",
       "mark               0\n",
       "model              0\n",
       "year               0\n",
       "mileage            0\n",
       "engine_capacity    0\n",
       "transmission       0\n",
       "drive              0\n",
       "hand_drive         0\n",
       "fuel               0\n",
       "dtype: int64"
      ]
     },
     "execution_count": 9,
     "metadata": {},
     "output_type": "execute_result"
    }
   ],
   "source": [
    "# Checking for Null values\n",
    "df.isnull().sum()"
   ]
  },
  {
   "cell_type": "markdown",
   "id": "13ccb5e5",
   "metadata": {},
   "source": [
    "There is no null value in dataset."
   ]
  },
  {
   "cell_type": "code",
   "execution_count": 10,
   "id": "7249e4cd",
   "metadata": {
    "scrolled": true
   },
   "outputs": [
    {
     "data": {
      "text/html": [
       "<div>\n",
       "<style scoped>\n",
       "    .dataframe tbody tr th:only-of-type {\n",
       "        vertical-align: middle;\n",
       "    }\n",
       "\n",
       "    .dataframe tbody tr th {\n",
       "        vertical-align: top;\n",
       "    }\n",
       "\n",
       "    .dataframe thead th {\n",
       "        text-align: right;\n",
       "    }\n",
       "</style>\n",
       "<table border=\"1\" class=\"dataframe\">\n",
       "  <thead>\n",
       "    <tr style=\"text-align: right;\">\n",
       "      <th></th>\n",
       "      <th>id</th>\n",
       "      <th>price</th>\n",
       "      <th>year</th>\n",
       "      <th>mileage</th>\n",
       "      <th>engine_capacity</th>\n",
       "    </tr>\n",
       "  </thead>\n",
       "  <tbody>\n",
       "    <tr>\n",
       "      <th>count</th>\n",
       "      <td>2318.000000</td>\n",
       "      <td>2318.000000</td>\n",
       "      <td>2318.000000</td>\n",
       "      <td>2318.000000</td>\n",
       "      <td>2318.000000</td>\n",
       "    </tr>\n",
       "    <tr>\n",
       "      <th>mean</th>\n",
       "      <td>1169.047023</td>\n",
       "      <td>971.522433</td>\n",
       "      <td>2005.972390</td>\n",
       "      <td>100013.194996</td>\n",
       "      <td>1507.010785</td>\n",
       "    </tr>\n",
       "    <tr>\n",
       "      <th>std</th>\n",
       "      <td>674.460724</td>\n",
       "      <td>288.673112</td>\n",
       "      <td>3.698863</td>\n",
       "      <td>52512.478883</td>\n",
       "      <td>549.585170</td>\n",
       "    </tr>\n",
       "    <tr>\n",
       "      <th>min</th>\n",
       "      <td>0.000000</td>\n",
       "      <td>80.000000</td>\n",
       "      <td>1979.000000</td>\n",
       "      <td>2000.000000</td>\n",
       "      <td>9.000000</td>\n",
       "    </tr>\n",
       "    <tr>\n",
       "      <th>25%</th>\n",
       "      <td>583.250000</td>\n",
       "      <td>776.000000</td>\n",
       "      <td>2004.000000</td>\n",
       "      <td>67000.000000</td>\n",
       "      <td>1300.000000</td>\n",
       "    </tr>\n",
       "    <tr>\n",
       "      <th>50%</th>\n",
       "      <td>1168.500000</td>\n",
       "      <td>1000.000000</td>\n",
       "      <td>2006.000000</td>\n",
       "      <td>94000.000000</td>\n",
       "      <td>1490.000000</td>\n",
       "    </tr>\n",
       "    <tr>\n",
       "      <th>75%</th>\n",
       "      <td>1753.750000</td>\n",
       "      <td>1213.000000</td>\n",
       "      <td>2009.000000</td>\n",
       "      <td>124000.000000</td>\n",
       "      <td>1800.000000</td>\n",
       "    </tr>\n",
       "    <tr>\n",
       "      <th>max</th>\n",
       "      <td>2335.000000</td>\n",
       "      <td>1400.000000</td>\n",
       "      <td>2015.000000</td>\n",
       "      <td>790000.000000</td>\n",
       "      <td>12340.000000</td>\n",
       "    </tr>\n",
       "  </tbody>\n",
       "</table>\n",
       "</div>"
      ],
      "text/plain": [
       "                id        price         year        mileage  engine_capacity\n",
       "count  2318.000000  2318.000000  2318.000000    2318.000000      2318.000000\n",
       "mean   1169.047023   971.522433  2005.972390  100013.194996      1507.010785\n",
       "std     674.460724   288.673112     3.698863   52512.478883       549.585170\n",
       "min       0.000000    80.000000  1979.000000    2000.000000         9.000000\n",
       "25%     583.250000   776.000000  2004.000000   67000.000000      1300.000000\n",
       "50%    1168.500000  1000.000000  2006.000000   94000.000000      1490.000000\n",
       "75%    1753.750000  1213.000000  2009.000000  124000.000000      1800.000000\n",
       "max    2335.000000  1400.000000  2015.000000  790000.000000     12340.000000"
      ]
     },
     "execution_count": 10,
     "metadata": {},
     "output_type": "execute_result"
    }
   ],
   "source": [
    "df.describe()"
   ]
  },
  {
   "cell_type": "code",
   "execution_count": 13,
   "id": "101acbff",
   "metadata": {},
   "outputs": [
    {
     "data": {
      "text/plain": [
       "array(['at', 'mt', 'cvt'], dtype=object)"
      ]
     },
     "execution_count": 13,
     "metadata": {},
     "output_type": "execute_result"
    }
   ],
   "source": [
    "df['transmission'].unique()"
   ]
  },
  {
   "cell_type": "code",
   "execution_count": 14,
   "id": "0b6ca9fb",
   "metadata": {},
   "outputs": [
    {
     "data": {
      "text/plain": [
       "array(['2wd', '4wd', 'awd'], dtype=object)"
      ]
     },
     "execution_count": 14,
     "metadata": {},
     "output_type": "execute_result"
    }
   ],
   "source": [
    "df['drive'].unique()"
   ]
  },
  {
   "cell_type": "code",
   "execution_count": 15,
   "id": "1d3e33c1",
   "metadata": {},
   "outputs": [
    {
     "data": {
      "text/plain": [
       "array(['gasoline', 'diesel', 'hybrid', 'lpg', 'cng'], dtype=object)"
      ]
     },
     "execution_count": 15,
     "metadata": {},
     "output_type": "execute_result"
    }
   ],
   "source": [
    "df['fuel'].unique()"
   ]
  },
  {
   "cell_type": "code",
   "execution_count": 16,
   "id": "3c53649e",
   "metadata": {},
   "outputs": [
    {
     "data": {
      "text/html": [
       "<div>\n",
       "<style scoped>\n",
       "    .dataframe tbody tr th:only-of-type {\n",
       "        vertical-align: middle;\n",
       "    }\n",
       "\n",
       "    .dataframe tbody tr th {\n",
       "        vertical-align: top;\n",
       "    }\n",
       "\n",
       "    .dataframe thead th {\n",
       "        text-align: right;\n",
       "    }\n",
       "</style>\n",
       "<table border=\"1\" class=\"dataframe\">\n",
       "  <thead>\n",
       "    <tr style=\"text-align: right;\">\n",
       "      <th></th>\n",
       "      <th>price</th>\n",
       "      <th>year</th>\n",
       "      <th>mileage</th>\n",
       "      <th>engine_capacity</th>\n",
       "      <th>transmission</th>\n",
       "      <th>drive</th>\n",
       "      <th>hand_drive</th>\n",
       "      <th>fuel</th>\n",
       "    </tr>\n",
       "  </thead>\n",
       "  <tbody>\n",
       "    <tr>\n",
       "      <th>0</th>\n",
       "      <td>80</td>\n",
       "      <td>2003</td>\n",
       "      <td>80000</td>\n",
       "      <td>1240</td>\n",
       "      <td>at</td>\n",
       "      <td>2wd</td>\n",
       "      <td>rhd</td>\n",
       "      <td>gasoline</td>\n",
       "    </tr>\n",
       "    <tr>\n",
       "      <th>1</th>\n",
       "      <td>110</td>\n",
       "      <td>2010</td>\n",
       "      <td>53000</td>\n",
       "      <td>1200</td>\n",
       "      <td>at</td>\n",
       "      <td>2wd</td>\n",
       "      <td>rhd</td>\n",
       "      <td>gasoline</td>\n",
       "    </tr>\n",
       "    <tr>\n",
       "      <th>2</th>\n",
       "      <td>165</td>\n",
       "      <td>2005</td>\n",
       "      <td>47690</td>\n",
       "      <td>2000</td>\n",
       "      <td>at</td>\n",
       "      <td>2wd</td>\n",
       "      <td>rhd</td>\n",
       "      <td>gasoline</td>\n",
       "    </tr>\n",
       "    <tr>\n",
       "      <th>3</th>\n",
       "      <td>190</td>\n",
       "      <td>2008</td>\n",
       "      <td>130661</td>\n",
       "      <td>1990</td>\n",
       "      <td>at</td>\n",
       "      <td>2wd</td>\n",
       "      <td>rhd</td>\n",
       "      <td>gasoline</td>\n",
       "    </tr>\n",
       "    <tr>\n",
       "      <th>4</th>\n",
       "      <td>190</td>\n",
       "      <td>2006</td>\n",
       "      <td>66300</td>\n",
       "      <td>660</td>\n",
       "      <td>at</td>\n",
       "      <td>2wd</td>\n",
       "      <td>rhd</td>\n",
       "      <td>gasoline</td>\n",
       "    </tr>\n",
       "  </tbody>\n",
       "</table>\n",
       "</div>"
      ],
      "text/plain": [
       "   price  year  mileage  engine_capacity transmission drive hand_drive  \\\n",
       "0     80  2003    80000             1240           at   2wd        rhd   \n",
       "1    110  2010    53000             1200           at   2wd        rhd   \n",
       "2    165  2005    47690             2000           at   2wd        rhd   \n",
       "3    190  2008   130661             1990           at   2wd        rhd   \n",
       "4    190  2006    66300              660           at   2wd        rhd   \n",
       "\n",
       "       fuel  \n",
       "0  gasoline  \n",
       "1  gasoline  \n",
       "2  gasoline  \n",
       "3  gasoline  \n",
       "4  gasoline  "
      ]
     },
     "execution_count": 16,
     "metadata": {},
     "output_type": "execute_result"
    }
   ],
   "source": [
    "#Dropping model and mark column\n",
    "\n",
    "df=df.drop(columns=['id','mark','model'],axis=1)\n",
    "df.head()"
   ]
  },
  {
   "cell_type": "markdown",
   "id": "4f303edd",
   "metadata": {},
   "source": [
    "# Data Visualization"
   ]
  },
  {
   "cell_type": "code",
   "execution_count": 19,
   "id": "f96ae7ab",
   "metadata": {},
   "outputs": [
    {
     "name": "stdout",
     "output_type": "stream",
     "text": [
      "gasoline    2290\n",
      "diesel        18\n",
      "lpg            7\n",
      "hybrid         2\n",
      "cng            1\n",
      "Name: fuel, dtype: int64\n"
     ]
    },
    {
     "data": {
      "image/png": "[encoded data removed]",
      "text/plain": [
       "<Figure size 432x288 with 1 Axes>"
      ]
     },
     "metadata": {
      "needs_background": "light"
     },
     "output_type": "display_data"
    }
   ],
   "source": [
    "#for Categorical columns\n",
    "# countplot for fuel\n",
    "\n",
    "ax = sns.countplot(x='fuel', data=df)\n",
    "print(df['fuel'].value_counts())\n",
    "plt.title(\"Fuel\")\n",
    "plt.show()"
   ]
  },
  {
   "cell_type": "markdown",
   "id": "9efb2d3e",
   "metadata": {},
   "source": [
    "We can see that mostly cars are gasoline cars. "
   ]
  },
  {
   "cell_type": "code",
   "execution_count": 20,
   "id": "704ee565",
   "metadata": {},
   "outputs": [
    {
     "name": "stdout",
     "output_type": "stream",
     "text": [
      "at     2171\n",
      "mt      117\n",
      "cvt      30\n",
      "Name: transmission, dtype: int64\n"
     ]
    },
    {
     "data": {
      "image/png": "[encoded data removed]",
      "text/plain": [
       "<Figure size 432x288 with 1 Axes>"
      ]
     },
     "metadata": {
      "needs_background": "light"
     },
     "output_type": "display_data"
    }
   ],
   "source": [
    "# count plot fortransmission\n",
    "ax=sns.countplot(x='transmission',data=df)\n",
    "print(df['transmission'].value_counts())"
   ]
  },
  {
   "cell_type": "markdown",
   "id": "3ac6ab4f",
   "metadata": {},
   "source": [
    "We can see that mostly cars have Automatic transmission."
   ]
  },
  {
   "cell_type": "code",
   "execution_count": 21,
   "id": "38279175",
   "metadata": {},
   "outputs": [
    {
     "name": "stdout",
     "output_type": "stream",
     "text": [
      "2wd    2121\n",
      "4wd     192\n",
      "awd       5\n",
      "Name: drive, dtype: int64\n"
     ]
    },
    {
     "data": {
      "image/png": "[encoded data removed]",
      "text/plain": [
       "<Figure size 432x288 with 1 Axes>"
      ]
     },
     "metadata": {
      "needs_background": "light"
     },
     "output_type": "display_data"
    }
   ],
   "source": [
    "# countplot for drive\n",
    "ax=sns.countplot(x='drive',data=df)\n",
    "print(df['drive'].value_counts())"
   ]
  },
  {
   "cell_type": "markdown",
   "id": "40fe27a4",
   "metadata": {},
   "source": [
    "Mostly cars are 2wd."
   ]
  },
  {
   "cell_type": "code",
   "execution_count": 23,
   "id": "c51c7773",
   "metadata": {},
   "outputs": [
    {
     "name": "stdout",
     "output_type": "stream",
     "text": [
      "rhd       2301\n",
      "lhd         16\n",
      "center       1\n",
      "Name: hand_drive, dtype: int64\n"
     ]
    },
    {
     "data": {
      "image/png": "[encoded data removed]",
      "text/plain": [
       "<Figure size 432x288 with 1 Axes>"
      ]
     },
     "metadata": {
      "needs_background": "light"
     },
     "output_type": "display_data"
    }
   ],
   "source": [
    "# countplot for hand_drive\n",
    "\n",
    "ax = sns.countplot(x='hand_drive', data=df)\n",
    "print(df['hand_drive'].value_counts())"
   ]
  },
  {
   "cell_type": "markdown",
   "id": "d5d8c6aa",
   "metadata": {},
   "source": [
    "Right hand drive cars in higher numbers."
   ]
  },
  {
   "cell_type": "code",
   "execution_count": 24,
   "id": "1b335597",
   "metadata": {},
   "outputs": [
    {
     "data": {
      "text/plain": [
       "<AxesSubplot:xlabel='price', ylabel='Density'>"
      ]
     },
     "execution_count": 24,
     "metadata": {},
     "output_type": "execute_result"
    },
    {
     "data": {
      "image/png": "[encoded data removed]",
      "text/plain": [
       "<Figure size 432x288 with 1 Axes>"
      ]
     },
     "metadata": {
      "needs_background": "light"
     },
     "output_type": "display_data"
    }
   ],
   "source": [
    "# For price\n",
    "\n",
    "sns.distplot(df['price'])"
   ]
  },
  {
   "cell_type": "markdown",
   "id": "adae2d73",
   "metadata": {},
   "source": [
    "We find that Label variable is Right Skewed"
   ]
  },
  {
   "cell_type": "code",
   "execution_count": 31,
   "id": "b8783f3e",
   "metadata": {},
   "outputs": [
    {
     "data": {
      "text/plain": [
       "<AxesSubplot:xlabel='transmission', ylabel='price'>"
      ]
     },
     "execution_count": 31,
     "metadata": {},
     "output_type": "execute_result"
    },
    {
     "data": {
      "image/png": "[encoded data removed]",
      "text/plain": [
       "<Figure size 1080x576 with 2 Axes>"
      ]
     },
     "metadata": {
      "needs_background": "light"
     },
     "output_type": "display_data"
    }
   ],
   "source": [
    "price = df['price']\n",
    "trans = df['transmission']\n",
    "fuel_type = df['fuel']\n",
    "\n",
    "\n",
    "fig,axes = plt.subplots(1,2,figsize=(15,8),sharey=True)\n",
    "fig.suptitle('Visualizing categorical data column')\n",
    "sns.barplot(x=fuel_type,y=price,ax=axes[0])\n",
    "sns.barplot(x=trans,y=price,ax=axes[1])"
   ]
  },
  {
   "cell_type": "code",
   "execution_count": 27,
   "id": "4994f4a9",
   "metadata": {},
   "outputs": [
    {
     "data": {
      "text/plain": [
       "<AxesSubplot:xlabel='hand_drive', ylabel='price'>"
      ]
     },
     "execution_count": 27,
     "metadata": {},
     "output_type": "execute_result"
    },
    {
     "data": {
      "image/png": "[encoded data removed]",
      "text/plain": [
       "<Figure size 1080x576 with 2 Axes>"
      ]
     },
     "metadata": {
      "needs_background": "light"
     },
     "output_type": "display_data"
    }
   ],
   "source": [
    "dr = df['drive']\n",
    "hd = df['hand_drive']\n",
    "\n",
    "fig,axes = plt.subplots(1,2,figsize=(15,8),sharey=True)\n",
    "fig.suptitle('Visualizing categorical data column')\n",
    "sns.barplot(x=dr,y=price,ax=axes[0])\n",
    "sns.barplot(x=hd,y=price,ax=axes[1])\n"
   ]
  },
  {
   "cell_type": "code",
   "execution_count": 32,
   "id": "32995256",
   "metadata": {},
   "outputs": [
    {
     "data": {
      "text/html": [
       "<div>\n",
       "<style scoped>\n",
       "    .dataframe tbody tr th:only-of-type {\n",
       "        vertical-align: middle;\n",
       "    }\n",
       "\n",
       "    .dataframe tbody tr th {\n",
       "        vertical-align: top;\n",
       "    }\n",
       "\n",
       "    .dataframe thead th {\n",
       "        text-align: right;\n",
       "    }\n",
       "</style>\n",
       "<table border=\"1\" class=\"dataframe\">\n",
       "  <thead>\n",
       "    <tr style=\"text-align: right;\">\n",
       "      <th></th>\n",
       "      <th>price</th>\n",
       "      <th>year</th>\n",
       "      <th>mileage</th>\n",
       "      <th>engine_capacity</th>\n",
       "      <th>transmission</th>\n",
       "      <th>drive</th>\n",
       "      <th>hand_drive</th>\n",
       "      <th>fuel</th>\n",
       "    </tr>\n",
       "  </thead>\n",
       "  <tbody>\n",
       "    <tr>\n",
       "      <th>0</th>\n",
       "      <td>80</td>\n",
       "      <td>2003</td>\n",
       "      <td>80000</td>\n",
       "      <td>1240</td>\n",
       "      <td>0</td>\n",
       "      <td>2wd</td>\n",
       "      <td>2</td>\n",
       "      <td>2</td>\n",
       "    </tr>\n",
       "    <tr>\n",
       "      <th>1</th>\n",
       "      <td>110</td>\n",
       "      <td>2010</td>\n",
       "      <td>53000</td>\n",
       "      <td>1200</td>\n",
       "      <td>0</td>\n",
       "      <td>2wd</td>\n",
       "      <td>2</td>\n",
       "      <td>2</td>\n",
       "    </tr>\n",
       "    <tr>\n",
       "      <th>2</th>\n",
       "      <td>165</td>\n",
       "      <td>2005</td>\n",
       "      <td>47690</td>\n",
       "      <td>2000</td>\n",
       "      <td>0</td>\n",
       "      <td>2wd</td>\n",
       "      <td>2</td>\n",
       "      <td>2</td>\n",
       "    </tr>\n",
       "    <tr>\n",
       "      <th>3</th>\n",
       "      <td>190</td>\n",
       "      <td>2008</td>\n",
       "      <td>130661</td>\n",
       "      <td>1990</td>\n",
       "      <td>0</td>\n",
       "      <td>2wd</td>\n",
       "      <td>2</td>\n",
       "      <td>2</td>\n",
       "    </tr>\n",
       "    <tr>\n",
       "      <th>4</th>\n",
       "      <td>190</td>\n",
       "      <td>2006</td>\n",
       "      <td>66300</td>\n",
       "      <td>660</td>\n",
       "      <td>0</td>\n",
       "      <td>2wd</td>\n",
       "      <td>2</td>\n",
       "      <td>2</td>\n",
       "    </tr>\n",
       "  </tbody>\n",
       "</table>\n",
       "</div>"
      ],
      "text/plain": [
       "   price  year  mileage  engine_capacity  transmission drive  hand_drive  fuel\n",
       "0     80  2003    80000             1240             0   2wd           2     2\n",
       "1    110  2010    53000             1200             0   2wd           2     2\n",
       "2    165  2005    47690             2000             0   2wd           2     2\n",
       "3    190  2008   130661             1990             0   2wd           2     2\n",
       "4    190  2006    66300              660             0   2wd           2     2"
      ]
     },
     "execution_count": 32,
     "metadata": {},
     "output_type": "execute_result"
    }
   ],
   "source": [
    "#Enocoding  transmission ,fuel,hand_drive using label encoder\n",
    "\n",
    "list1=['transmission','fuel','hand_drive']\n",
    "\n",
    "from sklearn.preprocessing import LabelEncoder\n",
    "le=LabelEncoder()\n",
    "for col in list1:\n",
    "    df[col]=le.fit_transform(df[col])\n",
    "df.head()"
   ]
  },
  {
   "cell_type": "markdown",
   "id": "dadb14ed",
   "metadata": {},
   "source": [
    "Encoding data with LabelEncoder as data are categorically nominal."
   ]
  },
  {
   "cell_type": "code",
   "execution_count": 33,
   "id": "671c88eb",
   "metadata": {},
   "outputs": [
    {
     "data": {
      "text/html": [
       "<div>\n",
       "<style scoped>\n",
       "    .dataframe tbody tr th:only-of-type {\n",
       "        vertical-align: middle;\n",
       "    }\n",
       "\n",
       "    .dataframe tbody tr th {\n",
       "        vertical-align: top;\n",
       "    }\n",
       "\n",
       "    .dataframe thead th {\n",
       "        text-align: right;\n",
       "    }\n",
       "</style>\n",
       "<table border=\"1\" class=\"dataframe\">\n",
       "  <thead>\n",
       "    <tr style=\"text-align: right;\">\n",
       "      <th></th>\n",
       "      <th>price</th>\n",
       "      <th>year</th>\n",
       "      <th>mileage</th>\n",
       "      <th>engine_capacity</th>\n",
       "      <th>transmission</th>\n",
       "      <th>drive</th>\n",
       "      <th>hand_drive</th>\n",
       "      <th>fuel</th>\n",
       "    </tr>\n",
       "  </thead>\n",
       "  <tbody>\n",
       "    <tr>\n",
       "      <th>0</th>\n",
       "      <td>80</td>\n",
       "      <td>2003</td>\n",
       "      <td>80000</td>\n",
       "      <td>1240</td>\n",
       "      <td>0</td>\n",
       "      <td>2.0</td>\n",
       "      <td>2</td>\n",
       "      <td>2</td>\n",
       "    </tr>\n",
       "    <tr>\n",
       "      <th>1</th>\n",
       "      <td>110</td>\n",
       "      <td>2010</td>\n",
       "      <td>53000</td>\n",
       "      <td>1200</td>\n",
       "      <td>0</td>\n",
       "      <td>2.0</td>\n",
       "      <td>2</td>\n",
       "      <td>2</td>\n",
       "    </tr>\n",
       "    <tr>\n",
       "      <th>2</th>\n",
       "      <td>165</td>\n",
       "      <td>2005</td>\n",
       "      <td>47690</td>\n",
       "      <td>2000</td>\n",
       "      <td>0</td>\n",
       "      <td>2.0</td>\n",
       "      <td>2</td>\n",
       "      <td>2</td>\n",
       "    </tr>\n",
       "    <tr>\n",
       "      <th>3</th>\n",
       "      <td>190</td>\n",
       "      <td>2008</td>\n",
       "      <td>130661</td>\n",
       "      <td>1990</td>\n",
       "      <td>0</td>\n",
       "      <td>2.0</td>\n",
       "      <td>2</td>\n",
       "      <td>2</td>\n",
       "    </tr>\n",
       "    <tr>\n",
       "      <th>4</th>\n",
       "      <td>190</td>\n",
       "      <td>2006</td>\n",
       "      <td>66300</td>\n",
       "      <td>660</td>\n",
       "      <td>0</td>\n",
       "      <td>2.0</td>\n",
       "      <td>2</td>\n",
       "      <td>2</td>\n",
       "    </tr>\n",
       "  </tbody>\n",
       "</table>\n",
       "</div>"
      ],
      "text/plain": [
       "   price  year  mileage  engine_capacity  transmission  drive  hand_drive  \\\n",
       "0     80  2003    80000             1240             0    2.0           2   \n",
       "1    110  2010    53000             1200             0    2.0           2   \n",
       "2    165  2005    47690             2000             0    2.0           2   \n",
       "3    190  2008   130661             1990             0    2.0           2   \n",
       "4    190  2006    66300              660             0    2.0           2   \n",
       "\n",
       "   fuel  \n",
       "0     2  \n",
       "1     2  \n",
       "2     2  \n",
       "3     2  \n",
       "4     2  "
      ]
     },
     "execution_count": 33,
     "metadata": {},
     "output_type": "execute_result"
    }
   ],
   "source": [
    "#Encoding drive column with Ordinal Encoder\n",
    "\n",
    "cat=['awd','4wd','2wd']\n",
    "\n",
    "from sklearn.preprocessing import OrdinalEncoder\n",
    "enc=OrdinalEncoder(categories=[cat])\n",
    "\n",
    "list2=['drive']\n",
    "\n",
    "for col in list2:\n",
    "    df[col]=enc.fit_transform(df[col].values.reshape(-1,1))\n",
    "df.head()"
   ]
  },
  {
   "cell_type": "markdown",
   "id": "5c21e984",
   "metadata": {},
   "source": [
    "Enocoding drive column with ordial encoder."
   ]
  },
  {
   "cell_type": "markdown",
   "id": "fe3f2e01",
   "metadata": {},
   "source": [
    "# Checking For skewness"
   ]
  },
  {
   "cell_type": "code",
   "execution_count": 34,
   "id": "ab24ab4a",
   "metadata": {},
   "outputs": [
    {
     "data": {
      "text/plain": [
       "hand_drive        -12.811470\n",
       "drive              -3.193137\n",
       "year               -0.845917\n",
       "price              -0.466780\n",
       "mileage             3.089142\n",
       "transmission        3.820441\n",
       "engine_capacity     4.038892\n",
       "fuel                4.146744\n",
       "dtype: float64"
      ]
     },
     "execution_count": 34,
     "metadata": {},
     "output_type": "execute_result"
    }
   ],
   "source": [
    "df.skew().sort_values()"
   ]
  },
  {
   "cell_type": "markdown",
   "id": "a3c20466",
   "metadata": {},
   "source": [
    "All the features are having skewness but HandDrive column is highly skewed."
   ]
  },
  {
   "cell_type": "markdown",
   "id": "a49bb564",
   "metadata": {},
   "source": [
    "# Correlation with target columns and features"
   ]
  },
  {
   "cell_type": "code",
   "execution_count": 35,
   "id": "00c37777",
   "metadata": {},
   "outputs": [
    {
     "data": {
      "text/plain": [
       "year              -0.211092\n",
       "drive             -0.046591\n",
       "hand_drive        -0.036473\n",
       "fuel              -0.016337\n",
       "mileage            0.021581\n",
       "transmission       0.043679\n",
       "engine_capacity    0.173748\n",
       "price              1.000000\n",
       "Name: price, dtype: float64"
      ]
     },
     "execution_count": 35,
     "metadata": {},
     "output_type": "execute_result"
    }
   ],
   "source": [
    "df.corr()['price'].sort_values()"
   ]
  },
  {
   "cell_type": "code",
   "execution_count": 36,
   "id": "73ce034b",
   "metadata": {},
   "outputs": [
    {
     "data": {
      "image/png": "[encoded data removed]",
      "text/plain": [
       "<Figure size 1800x1080 with 2 Axes>"
      ]
     },
     "metadata": {
      "needs_background": "light"
     },
     "output_type": "display_data"
    }
   ],
   "source": [
    "# heatmap\n",
    "\n",
    "plt.figure(figsize=(25,15))\n",
    "sns.heatmap(df.corr(),annot=True,fmt=\"0.2f\")\n",
    "plt.show()    "
   ]
  },
  {
   "cell_type": "markdown",
   "id": "fcf60039",
   "metadata": {},
   "source": [
    "year column have highest relationship with target"
   ]
  },
  {
   "cell_type": "markdown",
   "id": "39710cad",
   "metadata": {},
   "source": [
    "# Checking the columns which are related to target."
   ]
  },
  {
   "cell_type": "code",
   "execution_count": 39,
   "id": "d478ae59",
   "metadata": {},
   "outputs": [
    {
     "data": {
      "image/png": "[encoded data removed]",
      "text/plain": [
       "<Figure size 1800x864 with 1 Axes>"
      ]
     },
     "metadata": {
      "needs_background": "light"
     },
     "output_type": "display_data"
    }
   ],
   "source": [
    "plt.figure(figsize=(25,12))\n",
    "df.corr()['price'].sort_values(ascending=False).drop(['price']).plot(kind='bar',color='b')\n",
    "plt.xlabel('Feature',fontsize=2)\n",
    "plt.ylabel('column with target names',fontsize=18)\n",
    "plt.title('Correlation')\n",
    "plt.show()"
   ]
  },
  {
   "cell_type": "markdown",
   "id": "aee59e59",
   "metadata": {},
   "source": [
    "Engine_capacity, transmission ,mileage are positively related to target.\n",
    "\n",
    "Fuel, hand_drive, drive and year are negatively related to target."
   ]
  },
  {
   "cell_type": "code",
   "execution_count": 42,
   "id": "08ce9594",
   "metadata": {},
   "outputs": [
    {
     "data": {
      "image/png": "[encoded data removed]",
      "text/plain": [
       "<Figure size 1440x1080 with 8 Axes>"
      ]
     },
     "metadata": {},
     "output_type": "display_data"
    }
   ],
   "source": [
    "# Checking distribution for every column\n",
    "\n",
    "plt.figure(figsize=(20,15), facecolor='cyan')\n",
    "plotnumber = 1\n",
    "\n",
    "for column in df:\n",
    "    if plotnumber <=8:\n",
    "        ax = plt.subplot(2,4,plotnumber)\n",
    "        sns.distplot(df[column])\n",
    "        plt.xlabel(column,fontsize=25)\n",
    "    plotnumber += 1\n",
    "plt.show()"
   ]
  },
  {
   "cell_type": "markdown",
   "id": "a1c7aca8",
   "metadata": {},
   "source": [
    "Features such as year, mileage,engine_capacity has skewness which has to be considered."
   ]
  },
  {
   "cell_type": "markdown",
   "id": "0ef3da47",
   "metadata": {},
   "source": [
    "# Checking outliers"
   ]
  },
  {
   "cell_type": "code",
   "execution_count": 43,
   "id": "bbfe3a67",
   "metadata": {},
   "outputs": [
    {
     "data": {
      "text/plain": [
       "<AxesSubplot:>"
      ]
     },
     "execution_count": 43,
     "metadata": {},
     "output_type": "execute_result"
    },
    {
     "data": {
      "image/png": "[encoded data removed]",
      "text/plain": [
       "<Figure size 432x288 with 1 Axes>"
      ]
     },
     "metadata": {
      "needs_background": "light"
     },
     "output_type": "display_data"
    }
   ],
   "source": [
    "df['price'].plot.box()"
   ]
  },
  {
   "cell_type": "code",
   "execution_count": 44,
   "id": "b43b539a",
   "metadata": {},
   "outputs": [
    {
     "data": {
      "text/plain": [
       "<AxesSubplot:>"
      ]
     },
     "execution_count": 44,
     "metadata": {},
     "output_type": "execute_result"
    },
    {
     "data": {
      "image/png": "[encoded data removed]",
      "text/plain": [
       "<Figure size 432x288 with 1 Axes>"
      ]
     },
     "metadata": {
      "needs_background": "light"
     },
     "output_type": "display_data"
    }
   ],
   "source": [
    "df['year'].plot.box()"
   ]
  },
  {
   "cell_type": "code",
   "execution_count": 45,
   "id": "d772f559",
   "metadata": {},
   "outputs": [
    {
     "data": {
      "text/plain": [
       "<AxesSubplot:>"
      ]
     },
     "execution_count": 45,
     "metadata": {},
     "output_type": "execute_result"
    },
    {
     "data": {
      "image/png": "[encoded data removed]",
      "text/plain": [
       "<Figure size 432x288 with 1 Axes>"
      ]
     },
     "metadata": {
      "needs_background": "light"
     },
     "output_type": "display_data"
    }
   ],
   "source": [
    "df['mileage'].plot.box()"
   ]
  },
  {
   "cell_type": "code",
   "execution_count": 46,
   "id": "a79a6b5a",
   "metadata": {},
   "outputs": [
    {
     "data": {
      "text/plain": [
       "<AxesSubplot:>"
      ]
     },
     "execution_count": 46,
     "metadata": {},
     "output_type": "execute_result"
    },
    {
     "data": {
      "image/png": "[encoded data removed]",
      "text/plain": [
       "<Figure size 432x288 with 1 Axes>"
      ]
     },
     "metadata": {
      "needs_background": "light"
     },
     "output_type": "display_data"
    }
   ],
   "source": [
    "df['engine_capacity'].plot.box()"
   ]
  },
  {
   "cell_type": "code",
   "execution_count": 47,
   "id": "99d130c0",
   "metadata": {},
   "outputs": [
    {
     "data": {
      "image/png": "[encoded data removed]",
      "text/plain": [
       "<Figure size 1296x1008 with 8 Axes>"
      ]
     },
     "metadata": {
      "needs_background": "light"
     },
     "output_type": "display_data"
    }
   ],
   "source": [
    "graph=1\n",
    "\n",
    "plt.figure(figsize=(18,14))\n",
    "\n",
    "for column in df:\n",
    "    if graph<=9:\n",
    "        plt.subplot(3,3,graph)\n",
    "        ax=sns.boxplot(data=df[column])\n",
    "        plt.xlabel(column)\n",
    "    graph+=1\n",
    "plt.show()"
   ]
  },
  {
   "cell_type": "markdown",
   "id": "a70cc7d5",
   "metadata": {},
   "source": [
    "Continous variable are having outliers,target variable also have outliers but we will not remove them.\n"
   ]
  },
  {
   "cell_type": "markdown",
   "id": "ebf5f9b3",
   "metadata": {},
   "source": [
    "# Removing outliers"
   ]
  },
  {
   "cell_type": "code",
   "execution_count": 51,
   "id": "6fd085fa",
   "metadata": {},
   "outputs": [],
   "source": [
    "z = zscore(df[['year', 'mileage','engine_capacity']])\n",
    "abs_z = np.abs(z)\n",
    "\n",
    "filtering_entry = (abs_z < 3).all(axis=1)\n",
    "df = df[filtering_entry]"
   ]
  },
  {
   "cell_type": "code",
   "execution_count": 52,
   "id": "6ea8fbf4",
   "metadata": {},
   "outputs": [
    {
     "data": {
      "image/png": "[encoded data removed]",
      "text/plain": [
       "<Figure size 1440x1080 with 3 Axes>"
      ]
     },
     "metadata": {},
     "output_type": "display_data"
    }
   ],
   "source": [
    "# Let's see how data is distributed for every column\n",
    "\n",
    "plt.figure(figsize=(20,15), facecolor='cyan')\n",
    "plotnumber = 1\n",
    "\n",
    "for column in df[['year', 'mileage','engine_capacity']]:\n",
    "    if plotnumber <=8:\n",
    "        ax = plt.subplot(2,4,plotnumber)\n",
    "        sns.distplot(df[column])\n",
    "        plt.xlabel(column,fontsize=20)\n",
    "    plotnumber += 1\n",
    "plt.show()"
   ]
  },
  {
   "cell_type": "code",
   "execution_count": 57,
   "id": "2044dc6d",
   "metadata": {},
   "outputs": [
    {
     "data": {
      "text/plain": [
       "(2263, 8)"
      ]
     },
     "execution_count": 57,
     "metadata": {},
     "output_type": "execute_result"
    }
   ],
   "source": [
    "df.shape"
   ]
  },
  {
   "cell_type": "code",
   "execution_count": 53,
   "id": "c8c1fb6a",
   "metadata": {},
   "outputs": [
    {
     "data": {
      "text/plain": [
       "2.3923444976076556"
      ]
     },
     "execution_count": 53,
     "metadata": {},
     "output_type": "execute_result"
    }
   ],
   "source": [
    "data_loss = ((2299 - 2244)/2299) * 100\n",
    "data_loss"
   ]
  },
  {
   "cell_type": "markdown",
   "id": "75b9577a",
   "metadata": {},
   "source": [
    "Here we lost 2% of data which is acceptable."
   ]
  },
  {
   "cell_type": "markdown",
   "id": "4b98837d",
   "metadata": {},
   "source": [
    "# Data Standardization"
   ]
  },
  {
   "cell_type": "code",
   "execution_count": 59,
   "id": "2b4e2beb",
   "metadata": {},
   "outputs": [],
   "source": [
    "# x contains all independent features and y contains target variable\n",
    "\n",
    "x = df.drop('price',axis=1)\n",
    "y = df['price']"
   ]
  },
  {
   "cell_type": "code",
   "execution_count": 60,
   "id": "84097c27",
   "metadata": {},
   "outputs": [
    {
     "data": {
      "text/plain": [
       "array([[-0.93405553, -0.41107472, -0.54248726, ...,  0.29085516,\n",
       "         0.08168597,  0.02419814],\n",
       "       [ 1.1511155 , -1.03564336, -0.62864938, ...,  0.29085516,\n",
       "         0.08168597,  0.02419814],\n",
       "       [-0.33829238, -1.15847519,  1.09459303, ...,  0.29085516,\n",
       "         0.08168597,  0.02419814],\n",
       "       ...,\n",
       "       [-0.33829238,  0.07470089, -1.79183801, ...,  0.29085516,\n",
       "         0.08168597,  0.02419814],\n",
       "       [-1.82770026,  1.67082074, -1.79183801, ..., -3.24788264,\n",
       "         0.08168597,  0.02419814],\n",
       "       [-0.33829238, -0.5887298 ,  3.24864605, ...,  0.29085516,\n",
       "         0.08168597,  0.02419814]])"
      ]
     },
     "execution_count": 60,
     "metadata": {},
     "output_type": "execute_result"
    }
   ],
   "source": [
    "scaler=StandardScaler()\n",
    "x_scaled = scaler.fit_transform(x)\n",
    "x_scaled"
   ]
  },
  {
   "cell_type": "markdown",
   "id": "1e08f443",
   "metadata": {},
   "source": [
    "# Model Building"
   ]
  },
  {
   "cell_type": "code",
   "execution_count": 61,
   "id": "4fe8060e",
   "metadata": {},
   "outputs": [
    {
     "name": "stdout",
     "output_type": "stream",
     "text": [
      "At random state 0, the training accuracy is: ,0.06471861529526712\n",
      "At random state 0, the testing accuracy is , 0.08608128277815419\n",
      "\n",
      "\n",
      "At random state 1, the training accuracy is: ,0.07641304758565182\n",
      "At random state 1, the testing accuracy is , 0.044818158523437956\n",
      "\n",
      "\n",
      "At random state 2, the training accuracy is: ,0.07119557045281144\n",
      "At random state 2, the testing accuracy is , 0.07008925412383482\n",
      "\n",
      "\n",
      "At random state 3, the training accuracy is: ,0.07323936255025365\n",
      "At random state 3, the testing accuracy is , 0.05973022344406265\n",
      "\n",
      "\n",
      "At random state 4, the training accuracy is: ,0.07849496448658644\n",
      "At random state 4, the testing accuracy is , 0.038869910667139185\n",
      "\n",
      "\n",
      "At random state 5, the training accuracy is: ,0.058880141870332414\n",
      "At random state 5, the testing accuracy is , 0.11699688936930164\n",
      "\n",
      "\n",
      "At random state 6, the training accuracy is: ,0.07900759743330299\n",
      "At random state 6, the testing accuracy is , 0.03531312142061804\n",
      "\n",
      "\n",
      "At random state 7, the training accuracy is: ,0.07215323673558038\n",
      "At random state 7, the testing accuracy is , 0.06211526938861478\n",
      "\n",
      "\n",
      "At random state 8, the training accuracy is: ,0.06744085074464745\n",
      "At random state 8, the testing accuracy is , 0.08122403134453748\n",
      "\n",
      "\n",
      "At random state 9, the training accuracy is: ,0.07421007675998881\n",
      "At random state 9, the testing accuracy is , 0.05283304410164258\n",
      "\n",
      "\n",
      "At random state 10, the training accuracy is: ,0.07162444964504733\n",
      "At random state 10, the testing accuracy is , 0.06414991649026558\n",
      "\n",
      "\n",
      "At random state 11, the training accuracy is: ,0.0634093055841517\n",
      "At random state 11, the testing accuracy is , 0.09988753606177003\n",
      "\n",
      "\n",
      "At random state 12, the training accuracy is: ,0.06507443091577281\n",
      "At random state 12, the testing accuracy is , 0.09352281876121515\n",
      "\n",
      "\n",
      "At random state 13, the training accuracy is: ,0.08427255338717632\n",
      "At random state 13, the testing accuracy is , 0.013766005402609971\n",
      "\n",
      "\n",
      "At random state 14, the training accuracy is: ,0.06911991701187548\n",
      "At random state 14, the testing accuracy is , 0.07226528215985617\n",
      "\n",
      "\n",
      "At random state 15, the training accuracy is: ,0.08415912241917733\n",
      "At random state 15, the testing accuracy is , 0.012044869625557397\n",
      "\n",
      "\n",
      "At random state 16, the training accuracy is: ,0.07226026065808633\n",
      "At random state 16, the testing accuracy is , 0.06425731201104978\n",
      "\n",
      "\n",
      "At random state 17, the training accuracy is: ,0.06519956573419117\n",
      "At random state 17, the testing accuracy is , 0.0943247162283889\n",
      "\n",
      "\n",
      "At random state 18, the training accuracy is: ,0.07266341261853215\n",
      "At random state 18, the testing accuracy is , 0.06450965591870061\n",
      "\n",
      "\n",
      "At random state 19, the training accuracy is: ,0.07116015973280532\n",
      "At random state 19, the testing accuracy is , 0.06780635225431875\n",
      "\n",
      "\n",
      "At random state 20, the training accuracy is: ,0.07633697431280939\n",
      "At random state 20, the testing accuracy is , 0.04476449503162594\n",
      "\n",
      "\n",
      "At random state 21, the training accuracy is: ,0.07249781100199859\n",
      "At random state 21, the testing accuracy is , 0.06271341001601582\n",
      "\n",
      "\n",
      "At random state 22, the training accuracy is: ,0.07824247235588222\n",
      "At random state 22, the testing accuracy is , 0.03861894516868736\n",
      "\n",
      "\n",
      "At random state 23, the training accuracy is: ,0.0752376430736651\n",
      "At random state 23, the testing accuracy is , 0.051868276735761554\n",
      "\n",
      "\n",
      "At random state 24, the training accuracy is: ,0.07776191408654154\n",
      "At random state 24, the testing accuracy is , 0.04147027478380105\n",
      "\n",
      "\n",
      "At random state 25, the training accuracy is: ,0.05930452536821329\n",
      "At random state 25, the testing accuracy is , 0.11609739392121343\n",
      "\n",
      "\n",
      "At random state 26, the training accuracy is: ,0.07274785419684682\n",
      "At random state 26, the testing accuracy is , 0.06177897852376113\n",
      "\n",
      "\n",
      "At random state 27, the training accuracy is: ,0.06759209310707015\n",
      "At random state 27, the testing accuracy is , 0.06544703610889402\n",
      "\n",
      "\n",
      "At random state 28, the training accuracy is: ,0.06469803512215799\n",
      "At random state 28, the testing accuracy is , 0.09429997200063212\n",
      "\n",
      "\n",
      "At random state 29, the training accuracy is: ,0.06734460102751483\n",
      "At random state 29, the testing accuracy is , 0.08411350239930215\n",
      "\n",
      "\n",
      "At random state 30, the training accuracy is: ,0.06979887646284444\n",
      "At random state 30, the testing accuracy is , 0.07417888813114881\n",
      "\n",
      "\n",
      "At random state 31, the training accuracy is: ,0.07428358461515372\n",
      "At random state 31, the testing accuracy is , 0.05706915463490647\n",
      "\n",
      "\n",
      "At random state 32, the training accuracy is: ,0.0757186936674733\n",
      "At random state 32, the testing accuracy is , 0.042243058406577716\n",
      "\n",
      "\n",
      "At random state 33, the training accuracy is: ,0.06777710826708672\n",
      "At random state 33, the testing accuracy is , 0.07956431809904208\n",
      "\n",
      "\n",
      "At random state 34, the training accuracy is: ,0.06744272450488553\n",
      "At random state 34, the testing accuracy is , 0.08040957233036894\n",
      "\n",
      "\n",
      "At random state 35, the training accuracy is: ,0.0716526531189734\n",
      "At random state 35, the testing accuracy is , 0.06768957083620408\n",
      "\n",
      "\n",
      "At random state 36, the training accuracy is: ,0.07279577199092713\n",
      "At random state 36, the testing accuracy is , 0.061864637039202974\n",
      "\n",
      "\n",
      "At random state 37, the training accuracy is: ,0.08751035222940085\n",
      "At random state 37, the testing accuracy is , 0.0018043536840758323\n",
      "\n",
      "\n",
      "At random state 38, the training accuracy is: ,0.07454226763997229\n",
      "At random state 38, the testing accuracy is , 0.05398409631720358\n",
      "\n",
      "\n",
      "At random state 39, the training accuracy is: ,0.06137454135768239\n",
      "At random state 39, the testing accuracy is , 0.10148703319806385\n",
      "\n",
      "\n",
      "At random state 40, the training accuracy is: ,0.07594850236898709\n",
      "At random state 40, the testing accuracy is , 0.046015591009388346\n",
      "\n",
      "\n",
      "At random state 41, the training accuracy is: ,0.07093772856162073\n",
      "At random state 41, the testing accuracy is , 0.06712386391111025\n",
      "\n",
      "\n",
      "At random state 42, the training accuracy is: ,0.07483225443098318\n",
      "At random state 42, the testing accuracy is , 0.056086824149620074\n",
      "\n",
      "\n",
      "At random state 43, the training accuracy is: ,0.0766477320428085\n",
      "At random state 43, the testing accuracy is , 0.033106433426858484\n",
      "\n",
      "\n",
      "At random state 44, the training accuracy is: ,0.06537345497205216\n",
      "At random state 44, the testing accuracy is , 0.09151853589549541\n",
      "\n",
      "\n",
      "At random state 45, the training accuracy is: ,0.06835994035123016\n",
      "At random state 45, the testing accuracy is , 0.08131766634281057\n",
      "\n",
      "\n",
      "At random state 46, the training accuracy is: ,0.06995149905878362\n",
      "At random state 46, the testing accuracy is , 0.06526267366987704\n",
      "\n",
      "\n",
      "At random state 47, the training accuracy is: ,0.07227738388948257\n",
      "At random state 47, the testing accuracy is , 0.06572722011452625\n",
      "\n",
      "\n",
      "At random state 48, the training accuracy is: ,0.07009975460066187\n",
      "At random state 48, the testing accuracy is , 0.068810591859926\n",
      "\n",
      "\n",
      "At random state 49, the training accuracy is: ,0.06896790858742163\n",
      "At random state 49, the testing accuracy is , 0.0781920718869249\n",
      "\n",
      "\n",
      "At random state 50, the training accuracy is: ,0.0670512039097918\n",
      "At random state 50, the testing accuracy is , 0.08322222419341518\n",
      "\n",
      "\n",
      "At random state 51, the training accuracy is: ,0.07601340791440947\n",
      "At random state 51, the testing accuracy is , 0.04983350916424867\n",
      "\n",
      "\n",
      "At random state 52, the training accuracy is: ,0.06879910954213664\n",
      "At random state 52, the testing accuracy is , 0.07582626238125367\n",
      "\n",
      "\n",
      "At random state 53, the training accuracy is: ,0.07078300837439122\n",
      "At random state 53, the testing accuracy is , 0.07291407244733106\n",
      "\n",
      "\n",
      "At random state 54, the training accuracy is: ,0.07625317662376674\n",
      "At random state 54, the testing accuracy is , 0.05009639214142492\n",
      "\n",
      "\n",
      "At random state 55, the training accuracy is: ,0.0715377605555163\n",
      "At random state 55, the testing accuracy is , 0.06525432232799688\n",
      "\n",
      "\n",
      "At random state 56, the training accuracy is: ,0.07835001969386435\n",
      "At random state 56, the testing accuracy is , 0.03649384662356869\n",
      "\n",
      "\n",
      "At random state 57, the training accuracy is: ,0.07944407309945112\n",
      "At random state 57, the testing accuracy is , 0.029274785096740974\n",
      "\n",
      "\n",
      "At random state 58, the training accuracy is: ,0.07551387770695261\n",
      "At random state 58, the testing accuracy is , 0.04876891866475719\n",
      "\n",
      "\n",
      "At random state 59, the training accuracy is: ,0.067977454308362\n",
      "At random state 59, the testing accuracy is , 0.0776330808706921\n",
      "\n",
      "\n",
      "At random state 60, the training accuracy is: ,0.07851593576288529\n",
      "At random state 60, the testing accuracy is , 0.03669136374012927\n",
      "\n",
      "\n",
      "At random state 61, the training accuracy is: ,0.06541719442678762\n",
      "At random state 61, the testing accuracy is , 0.09071622837949833\n",
      "\n",
      "\n",
      "At random state 62, the training accuracy is: ,0.06872735309928935\n",
      "At random state 62, the testing accuracy is , 0.07916743555280392\n",
      "\n",
      "\n",
      "At random state 63, the training accuracy is: ,0.07238051619994701\n",
      "At random state 63, the testing accuracy is , 0.059602654936460886\n",
      "\n",
      "\n",
      "At random state 64, the training accuracy is: ,0.07499399585018918\n",
      "At random state 64, the testing accuracy is , 0.047587165507591234\n",
      "\n",
      "\n",
      "At random state 65, the training accuracy is: ,0.07681715598309569\n",
      "At random state 65, the testing accuracy is , 0.03803273671045915\n",
      "\n",
      "\n",
      "At random state 66, the training accuracy is: ,0.0735306445263173\n",
      "At random state 66, the testing accuracy is , 0.06040257866524512\n",
      "\n",
      "\n",
      "At random state 67, the training accuracy is: ,0.060938422852866325\n",
      "At random state 67, the testing accuracy is , 0.10307717656595328\n",
      "\n",
      "\n",
      "At random state 68, the training accuracy is: ,0.06818626605107991\n",
      "At random state 68, the testing accuracy is , 0.07888650125457053\n",
      "\n",
      "\n",
      "At random state 69, the training accuracy is: ,0.07559295470524341\n",
      "At random state 69, the testing accuracy is , 0.048535203275893\n",
      "\n",
      "\n",
      "At random state 70, the training accuracy is: ,0.0826738306535284\n",
      "At random state 70, the testing accuracy is , 0.01941642838174573\n",
      "\n",
      "\n",
      "At random state 71, the training accuracy is: ,0.07338291869758784\n",
      "At random state 71, the testing accuracy is , 0.05803986684679452\n",
      "\n",
      "\n",
      "At random state 72, the training accuracy is: ,0.08460494320808554\n",
      "At random state 72, the testing accuracy is , 0.011959325729142711\n",
      "\n",
      "\n",
      "At random state 73, the training accuracy is: ,0.07651017576021424\n",
      "At random state 73, the testing accuracy is , 0.046267114101293694\n",
      "\n",
      "\n",
      "At random state 74, the training accuracy is: ,0.06905185098361855\n",
      "At random state 74, the testing accuracy is , 0.07078061834092564\n",
      "\n",
      "\n",
      "At random state 75, the training accuracy is: ,0.06578433218847646\n",
      "At random state 75, the testing accuracy is , 0.09036719622184919\n",
      "\n",
      "\n",
      "At random state 76, the training accuracy is: ,0.0706163384268772\n",
      "At random state 76, the testing accuracy is , 0.06688132639285138\n",
      "\n",
      "\n",
      "At random state 77, the training accuracy is: ,0.0679099520477765\n",
      "At random state 77, the testing accuracy is , 0.0795413688790012\n",
      "\n",
      "\n",
      "At random state 78, the training accuracy is: ,0.06404378230035446\n",
      "At random state 78, the testing accuracy is , 0.09615980583344341\n",
      "\n",
      "\n",
      "At random state 79, the training accuracy is: ,0.08045777281952593\n",
      "At random state 79, the testing accuracy is , 0.030368576737859643\n",
      "\n",
      "\n",
      "At random state 80, the training accuracy is: ,0.0665404679833943\n",
      "At random state 80, the testing accuracy is , 0.09060384889573514\n",
      "\n",
      "\n",
      "At random state 81, the training accuracy is: ,0.07459069279997188\n",
      "At random state 81, the testing accuracy is , 0.056055781662064375\n",
      "\n",
      "\n",
      "At random state 82, the training accuracy is: ,0.06569460083566436\n",
      "At random state 82, the testing accuracy is , 0.09230916996133398\n",
      "\n",
      "\n",
      "At random state 83, the training accuracy is: ,0.06363314269688547\n",
      "At random state 83, the testing accuracy is , 0.09690992629884931\n",
      "\n",
      "\n",
      "At random state 84, the training accuracy is: ,0.08566431995356938\n",
      "At random state 84, the testing accuracy is , 0.00558604537598284\n",
      "\n",
      "\n",
      "At random state 85, the training accuracy is: ,0.06894877970796243\n",
      "At random state 85, the testing accuracy is , 0.07473732705211222\n",
      "\n",
      "\n",
      "At random state 86, the training accuracy is: ,0.06740313966666123\n",
      "At random state 86, the testing accuracy is , 0.08030101247893551\n",
      "\n",
      "\n",
      "At random state 87, the training accuracy is: ,0.07376719752687855\n",
      "At random state 87, the testing accuracy is , 0.049517026988016855\n",
      "\n",
      "\n",
      "At random state 88, the training accuracy is: ,0.0761238138319944\n",
      "At random state 88, the testing accuracy is , 0.036630797391452474\n",
      "\n",
      "\n",
      "At random state 89, the training accuracy is: ,0.06806591583031996\n",
      "At random state 89, the testing accuracy is , 0.08093407572193034\n",
      "\n",
      "\n",
      "At random state 90, the training accuracy is: ,0.07231985655360418\n",
      "At random state 90, the testing accuracy is , 0.06538877153464862\n",
      "\n",
      "\n",
      "At random state 91, the training accuracy is: ,0.06301448134019183\n",
      "At random state 91, the testing accuracy is , 0.08994056096967284\n",
      "\n",
      "\n",
      "At random state 92, the training accuracy is: ,0.06608524512229974\n",
      "At random state 92, the testing accuracy is , 0.08049180337705375\n",
      "\n",
      "\n",
      "At random state 93, the training accuracy is: ,0.07726377260271433\n",
      "At random state 93, the testing accuracy is , 0.04563251611774399\n",
      "\n",
      "\n",
      "At random state 94, the training accuracy is: ,0.074917958577292\n",
      "At random state 94, the testing accuracy is , 0.04408334791999202\n",
      "\n",
      "\n",
      "At random state 95, the training accuracy is: ,0.08067302895495154\n",
      "At random state 95, the testing accuracy is , 0.03338511859981519\n",
      "\n",
      "\n",
      "At random state 96, the training accuracy is: ,0.07363862483737393\n",
      "At random state 96, the testing accuracy is , 0.050090231443410294\n",
      "\n",
      "\n",
      "At random state 97, the training accuracy is: ,0.06922673755412523\n",
      "At random state 97, the testing accuracy is , 0.07194056749457733\n",
      "\n",
      "\n",
      "At random state 98, the training accuracy is: ,0.06627077404031412\n",
      "At random state 98, the testing accuracy is , 0.08837006431015992\n",
      "\n",
      "\n",
      "At random state 99, the training accuracy is: ,0.06540796753312128\n",
      "At random state 99, the testing accuracy is , 0.09065136966487164\n",
      "\n",
      "\n"
     ]
    }
   ],
   "source": [
    "# Linear Regression\n",
    "\n",
    "lr = LinearRegression()\n",
    "for i in range(0,100):\n",
    "    x_train,x_test,y_train,y_test = train_test_split(x_scaled,y,test_size=0.2,random_state=i)\n",
    "    lr.fit(x_train,y_train)\n",
    "    pred_train = lr.predict(x_train)\n",
    "    pred_test = lr.predict(x_test)\n",
    "    print(f\"At random state {i}, the training accuracy is: ,{r2_score(y_train,pred_train)}\")   \n",
    "    \n",
    "    print(f\"At random state {i}, the testing accuracy is , {r2_score(y_test,pred_test)}\")  \n",
    "    print(\"\\n\")"
   ]
  },
  {
   "cell_type": "code",
   "execution_count": 62,
   "id": "62143e4c",
   "metadata": {},
   "outputs": [
    {
     "name": "stdout",
     "output_type": "stream",
     "text": [
      "0.07916743555280392\n"
     ]
    }
   ],
   "source": [
    "x_train,x_test,y_train,y_test = train_test_split(x_scaled,y,test_size=0.2,random_state=62)\n",
    "lr.fit(x_train,y_train)\n",
    "pred_test = lr.predict(x_test)\n",
    "print(r2_score(y_test,pred_test))"
   ]
  },
  {
   "cell_type": "code",
   "execution_count": null,
   "id": "d18647e6",
   "metadata": {},
   "outputs": [],
   "source": []
  }
 ],
 "metadata": {
  "kernelspec": {
   "display_name": "Python 3 (ipykernel)",
   "language": "python",
   "name": "python3"
  },
  "language_info": {
   "codemirror_mode": {
    "name": "ipython",
    "version": 3
   },
   "file_extension": ".py",
   "mimetype": "text/x-python",
   "name": "python",
   "nbconvert_exporter": "python",
   "pygments_lexer": "ipython3",
   "version": "3.9.12"
  }
 },
 "nbformat": 4,
 "nbformat_minor": 5
}
